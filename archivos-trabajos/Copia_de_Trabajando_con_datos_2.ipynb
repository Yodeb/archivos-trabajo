{
  "nbformat": 4,
  "nbformat_minor": 0,
  "metadata": {
    "colab": {
      "provenance": []
    },
    "kernelspec": {
      "name": "python3",
      "display_name": "Python 3"
    },
    "language_info": {
      "name": "python"
    }
  },
  "cells": [
    {
      "cell_type": "markdown",
      "source": [
        "# Selección de datos para modelización\n",
        "\n",
        "Su conjunto de datos contiene demasiadas variables como para que pueda entenderlas o incluso imprimirlas. ¿Cómo puede reducir esta abrumadora cantidad de datos a algo que pueda entender?\n",
        "\n",
        "Empezaremos por seleccionar algunas variables utilizando nuestra intuición. Cursos posteriores le mostrarán técnicas estadísticas para priorizar automáticamente las variables.\n",
        "\n",
        "Para elegir variables/columnas, necesitaremos ver una lista de todas las columnas del conjunto de datos. Eso se hace con la propiedad columns del DataFrame (la línea inferior del código de abajo)."
      ],
      "metadata": {
        "id": "mLckdXHJLHrM"
      }
    },
    {
      "cell_type": "code",
      "source": [
        "import pandas as pd\n",
        "\n",
        "melbourne_file_path = '/content/melb_data.csv'\n",
        "melbourne_data = pd.read_csv(melbourne_file_path) \n",
        "melbourne_data.columns"
      ],
      "metadata": {
        "colab": {
          "base_uri": "https://localhost:8080/"
        },
        "id": "P6DMcoiyO4RC",
        "outputId": "00ae2f1e-5dcd-4607-d6fe-53103a2a2436"
      },
      "execution_count": null,
      "outputs": [
        {
          "output_type": "execute_result",
          "data": {
            "text/plain": [
              "Index(['Suburb', 'Address', 'Rooms', 'Type', 'Price', 'Method', 'SellerG',\n",
              "       'Date', 'Distance', 'Postcode', 'Bedroom2', 'Bathroom', 'Car',\n",
              "       'Landsize', 'BuildingArea', 'YearBuilt', 'CouncilArea', 'Lattitude',\n",
              "       'Longtitude', 'Regionname', 'Propertycount'],\n",
              "      dtype='object')"
            ]
          },
          "metadata": {},
          "execution_count": 1
        }
      ]
    },
    {
      "cell_type": "code",
      "source": [
        "# Los datos de Melbourne tienen algunos valores perdidos (algunas casas para las que no se registraron algunas variables).\n",
        "# Aprenderemos a manejar los valores perdidos en un tutorial posterior.  \n",
        "# Tus datos de Iowa no tienen valores perdidos en las columnas que utilizas. \n",
        "# Así que tomaremos la opción más simple por ahora, y eliminaremos las casas de nuestros datos. \n",
        "# No te preocupes mucho por esto por ahora, aunque el código es:\n",
        "\n",
        "# dropna elimina los valores perdidos (piense en na como \"no disponible\")\n",
        "melbourne_data = melbourne_data.dropna(axis=0)"
      ],
      "metadata": {
        "id": "KmvVk27APOvQ"
      },
      "execution_count": null,
      "outputs": []
    },
    {
      "cell_type": "markdown",
      "source": [
        "# Selección del objetivo de predicción\n",
        "Puede extraer una variable con anotación por puntos. Esta única columna se almacena en una Serie, que a grandes rasgos es como un DataFrame con una única columna de datos.\n",
        "\n",
        "Utilizaremos la notación de puntos para seleccionar la columna que queremos predecir, que se denomina objetivo de predicción. Por convención, el objetivo de predicción se llama y. Así que el código que necesitamos para guardar los precios de la vivienda en los datos de Melbourne es"
      ],
      "metadata": {
        "id": "4CiPLiJUPmk0"
      }
    },
    {
      "cell_type": "code",
      "source": [
        "y = melbourne_data.Price"
      ],
      "metadata": {
        "id": "hyoqSvbIPuDx"
      },
      "execution_count": null,
      "outputs": []
    },
    {
      "cell_type": "markdown",
      "source": [
        "# Selección de características\n",
        "Las columnas que se introducen en nuestro modelo (y que luego se utilizan para hacer predicciones) se denominan \"características\". En nuestro caso, serían las columnas utilizadas para determinar el precio de la vivienda. A veces, utilizará como características todas las columnas excepto el objetivo. Otras veces será mejor utilizar menos características.\n",
        "\n",
        "Por ahora, construiremos un modelo con sólo unas pocas características. Más adelante verá cómo iterar y comparar modelos construidos con diferentes características.\n",
        "\n",
        "Seleccionamos múltiples características proporcionando una lista de nombres de columnas entre paréntesis. Cada elemento de la lista debe ser una cadena (entre comillas).\n",
        "\n",
        "He aquí un ejemplo:"
      ],
      "metadata": {
        "id": "HRjVy3H3QKm6"
      }
    },
    {
      "cell_type": "code",
      "source": [
        "melbourne_features = ['Rooms', 'Bathroom', 'Landsize', 'Lattitude', 'Longtitude']"
      ],
      "metadata": {
        "id": "bgiwFXl9QXeU"
      },
      "execution_count": null,
      "outputs": []
    },
    {
      "cell_type": "markdown",
      "source": [
        "Por convención, estos datos se denominan X."
      ],
      "metadata": {
        "id": "bDZLmnm_QcWR"
      }
    },
    {
      "cell_type": "code",
      "source": [
        "X = melbourne_data[melbourne_features]"
      ],
      "metadata": {
        "id": "gh-YLt8xQdpH"
      },
      "execution_count": null,
      "outputs": []
    },
    {
      "cell_type": "markdown",
      "source": [
        "Repasemos rápidamente los datos que utilizaremos para predecir los precios de la vivienda utilizando el método de descripción y el método de la cabeza, que muestra las primeras filas."
      ],
      "metadata": {
        "id": "GHsEDUX3QfD_"
      }
    },
    {
      "cell_type": "code",
      "source": [
        "## Imprime las primeras filas"
      ],
      "metadata": {
        "id": "d6eTzIATQiW6"
      },
      "execution_count": null,
      "outputs": []
    },
    {
      "cell_type": "code",
      "source": [
        "X.head()"
      ],
      "metadata": {
        "id": "SEXDhSB_Qmxu",
        "outputId": "b5eaeec8-cfad-4b47-df3c-3b05ee75f922",
        "colab": {
          "base_uri": "https://localhost:8080/",
          "height": 206
        }
      },
      "execution_count": null,
      "outputs": [
        {
          "output_type": "execute_result",
          "data": {
            "text/plain": [
              "   Rooms  Bathroom  Landsize  Lattitude  Longtitude\n",
              "0      2       1.0     202.0   -37.7996    144.9984\n",
              "1      2       1.0     156.0   -37.8079    144.9934\n",
              "2      3       2.0     134.0   -37.8093    144.9944\n",
              "3      3       2.0      94.0   -37.7969    144.9969\n",
              "4      4       1.0     120.0   -37.8072    144.9941"
            ],
            "text/html": [
              "\n",
              "  <div id=\"df-90670566-61da-4bef-b65b-4d2614e805a9\">\n",
              "    <div class=\"colab-df-container\">\n",
              "      <div>\n",
              "<style scoped>\n",
              "    .dataframe tbody tr th:only-of-type {\n",
              "        vertical-align: middle;\n",
              "    }\n",
              "\n",
              "    .dataframe tbody tr th {\n",
              "        vertical-align: top;\n",
              "    }\n",
              "\n",
              "    .dataframe thead th {\n",
              "        text-align: right;\n",
              "    }\n",
              "</style>\n",
              "<table border=\"1\" class=\"dataframe\">\n",
              "  <thead>\n",
              "    <tr style=\"text-align: right;\">\n",
              "      <th></th>\n",
              "      <th>Rooms</th>\n",
              "      <th>Bathroom</th>\n",
              "      <th>Landsize</th>\n",
              "      <th>Lattitude</th>\n",
              "      <th>Longtitude</th>\n",
              "    </tr>\n",
              "  </thead>\n",
              "  <tbody>\n",
              "    <tr>\n",
              "      <th>0</th>\n",
              "      <td>2</td>\n",
              "      <td>1.0</td>\n",
              "      <td>202.0</td>\n",
              "      <td>-37.7996</td>\n",
              "      <td>144.9984</td>\n",
              "    </tr>\n",
              "    <tr>\n",
              "      <th>1</th>\n",
              "      <td>2</td>\n",
              "      <td>1.0</td>\n",
              "      <td>156.0</td>\n",
              "      <td>-37.8079</td>\n",
              "      <td>144.9934</td>\n",
              "    </tr>\n",
              "    <tr>\n",
              "      <th>2</th>\n",
              "      <td>3</td>\n",
              "      <td>2.0</td>\n",
              "      <td>134.0</td>\n",
              "      <td>-37.8093</td>\n",
              "      <td>144.9944</td>\n",
              "    </tr>\n",
              "    <tr>\n",
              "      <th>3</th>\n",
              "      <td>3</td>\n",
              "      <td>2.0</td>\n",
              "      <td>94.0</td>\n",
              "      <td>-37.7969</td>\n",
              "      <td>144.9969</td>\n",
              "    </tr>\n",
              "    <tr>\n",
              "      <th>4</th>\n",
              "      <td>4</td>\n",
              "      <td>1.0</td>\n",
              "      <td>120.0</td>\n",
              "      <td>-37.8072</td>\n",
              "      <td>144.9941</td>\n",
              "    </tr>\n",
              "  </tbody>\n",
              "</table>\n",
              "</div>\n",
              "      <button class=\"colab-df-convert\" onclick=\"convertToInteractive('df-90670566-61da-4bef-b65b-4d2614e805a9')\"\n",
              "              title=\"Convert this dataframe to an interactive table.\"\n",
              "              style=\"display:none;\">\n",
              "        \n",
              "  <svg xmlns=\"http://www.w3.org/2000/svg\" height=\"24px\"viewBox=\"0 0 24 24\"\n",
              "       width=\"24px\">\n",
              "    <path d=\"M0 0h24v24H0V0z\" fill=\"none\"/>\n",
              "    <path d=\"M18.56 5.44l.94 2.06.94-2.06 2.06-.94-2.06-.94-.94-2.06-.94 2.06-2.06.94zm-11 1L8.5 8.5l.94-2.06 2.06-.94-2.06-.94L8.5 2.5l-.94 2.06-2.06.94zm10 10l.94 2.06.94-2.06 2.06-.94-2.06-.94-.94-2.06-.94 2.06-2.06.94z\"/><path d=\"M17.41 7.96l-1.37-1.37c-.4-.4-.92-.59-1.43-.59-.52 0-1.04.2-1.43.59L10.3 9.45l-7.72 7.72c-.78.78-.78 2.05 0 2.83L4 21.41c.39.39.9.59 1.41.59.51 0 1.02-.2 1.41-.59l7.78-7.78 2.81-2.81c.8-.78.8-2.07 0-2.86zM5.41 20L4 18.59l7.72-7.72 1.47 1.35L5.41 20z\"/>\n",
              "  </svg>\n",
              "      </button>\n",
              "      \n",
              "  <style>\n",
              "    .colab-df-container {\n",
              "      display:flex;\n",
              "      flex-wrap:wrap;\n",
              "      gap: 12px;\n",
              "    }\n",
              "\n",
              "    .colab-df-convert {\n",
              "      background-color: #E8F0FE;\n",
              "      border: none;\n",
              "      border-radius: 50%;\n",
              "      cursor: pointer;\n",
              "      display: none;\n",
              "      fill: #1967D2;\n",
              "      height: 32px;\n",
              "      padding: 0 0 0 0;\n",
              "      width: 32px;\n",
              "    }\n",
              "\n",
              "    .colab-df-convert:hover {\n",
              "      background-color: #E2EBFA;\n",
              "      box-shadow: 0px 1px 2px rgba(60, 64, 67, 0.3), 0px 1px 3px 1px rgba(60, 64, 67, 0.15);\n",
              "      fill: #174EA6;\n",
              "    }\n",
              "\n",
              "    [theme=dark] .colab-df-convert {\n",
              "      background-color: #3B4455;\n",
              "      fill: #D2E3FC;\n",
              "    }\n",
              "\n",
              "    [theme=dark] .colab-df-convert:hover {\n",
              "      background-color: #434B5C;\n",
              "      box-shadow: 0px 1px 3px 1px rgba(0, 0, 0, 0.15);\n",
              "      filter: drop-shadow(0px 1px 2px rgba(0, 0, 0, 0.3));\n",
              "      fill: #FFFFFF;\n",
              "    }\n",
              "  </style>\n",
              "\n",
              "      <script>\n",
              "        const buttonEl =\n",
              "          document.querySelector('#df-90670566-61da-4bef-b65b-4d2614e805a9 button.colab-df-convert');\n",
              "        buttonEl.style.display =\n",
              "          google.colab.kernel.accessAllowed ? 'block' : 'none';\n",
              "\n",
              "        async function convertToInteractive(key) {\n",
              "          const element = document.querySelector('#df-90670566-61da-4bef-b65b-4d2614e805a9');\n",
              "          const dataTable =\n",
              "            await google.colab.kernel.invokeFunction('convertToInteractive',\n",
              "                                                     [key], {});\n",
              "          if (!dataTable) return;\n",
              "\n",
              "          const docLinkHtml = 'Like what you see? Visit the ' +\n",
              "            '<a target=\"_blank\" href=https://colab.research.google.com/notebooks/data_table.ipynb>data table notebook</a>'\n",
              "            + ' to learn more about interactive tables.';\n",
              "          element.innerHTML = '';\n",
              "          dataTable['output_type'] = 'display_data';\n",
              "          await google.colab.output.renderOutput(dataTable, element);\n",
              "          const docLink = document.createElement('div');\n",
              "          docLink.innerHTML = docLinkHtml;\n",
              "          element.appendChild(docLink);\n",
              "        }\n",
              "      </script>\n",
              "    </div>\n",
              "  </div>\n",
              "  "
            ]
          },
          "metadata": {},
          "execution_count": 5
        }
      ]
    },
    {
      "cell_type": "markdown",
      "source": [
        "Comprobar visualmente los datos con estos comandos es una parte importante del trabajo de un científico de datos. A menudo encontrarás sorpresas en el conjunto de datos que merecen una inspección más detallada."
      ],
      "metadata": {
        "id": "if4js9f7QqMo"
      }
    },
    {
      "cell_type": "markdown",
      "source": [
        "# Creación del modelo\n",
        "Utilizarás la librería scikit-learn para crear tus modelos. Al codificar, esta biblioteca se escribe como sklearn, como verás en el código de ejemplo. Scikit-learn es fácilmente la biblioteca más popular para modelar los tipos de datos típicamente almacenados en DataFrames.\n",
        "\n",
        "Los pasos para construir y utilizar un modelo son:\n",
        "\n",
        "Definir: ¿Qué tipo de modelo será? ¿Un árbol de decisión? ¿Otro tipo de modelo? También se especifican otros parámetros del tipo de modelo.\n",
        "Ajustar: Capturar patrones a partir de los datos proporcionados. Este es el corazón del modelado.\n",
        "Predecir: Justo lo que parece\n",
        "Evaluar: Determinar la precisión de las predicciones del modelo.\n",
        "He aquí un ejemplo de definición de un modelo de árbol de decisión con scikit-learn y su ajuste con las características y la variable objetivo."
      ],
      "metadata": {
        "id": "x18hNCedQ68G"
      }
    },
    {
      "cell_type": "code",
      "source": [
        "from sklearn.tree import DecisionTreeRegressor\n",
        "\n",
        "# Define model. Specify a number for random_state to ensure same results each run\n",
        "melbourne_model = DecisionTreeRegressor(random_state=1)\n",
        "\n",
        "# Fit model\n",
        "melbourne_model.fit(X, y)"
      ],
      "metadata": {
        "id": "ySQyyspWRLBr",
        "outputId": "ae6d67e9-b504-43a0-8c1f-c96b9ebe018f",
        "colab": {
          "base_uri": "https://localhost:8080/"
        }
      },
      "execution_count": null,
      "outputs": [
        {
          "output_type": "execute_result",
          "data": {
            "text/plain": [
              "DecisionTreeRegressor(random_state=1)"
            ]
          },
          "metadata": {},
          "execution_count": 6
        }
      ]
    },
    {
      "cell_type": "markdown",
      "source": [
        "Muchos modelos de aprendizaje automático permiten cierta aleatoriedad en el entrenamiento del modelo. Especificar un número para random_state le asegura obtener los mismos resultados en cada ejecución. Esto se considera una buena práctica. Puede utilizar cualquier número y la calidad del modelo no dependerá significativamente del valor exacto que elija.\n",
        "\n",
        "Ahora tenemos un modelo ajustado que podemos utilizar para hacer predicciones.\n",
        "\n",
        "En la práctica, querremos hacer predicciones para las nuevas viviendas que salgan al mercado y no para las viviendas de las que ya tenemos precios. Pero haremos predicciones para las primeras filas de los datos de entrenamiento para ver cómo funciona la función predecir."
      ],
      "metadata": {
        "id": "dunrmuwJRPPU"
      }
    },
    {
      "cell_type": "code",
      "source": [
        "print(\"Making predictions for the following 5 houses:\")\n",
        "print(X.head())\n",
        "print(\"The predictions are\")\n",
        "print(melbourne_model.predict(X.head()))"
      ],
      "metadata": {
        "id": "sIy-591WRRhj",
        "outputId": "320135ec-f8ca-4a8a-e3a0-865c808d1903",
        "colab": {
          "base_uri": "https://localhost:8080/"
        }
      },
      "execution_count": null,
      "outputs": [
        {
          "output_type": "stream",
          "name": "stdout",
          "text": [
            "Making predictions for the following 5 houses:\n",
            "   Rooms  Bathroom  Landsize  Lattitude  Longtitude\n",
            "0      2       1.0     202.0   -37.7996    144.9984\n",
            "1      2       1.0     156.0   -37.8079    144.9934\n",
            "2      3       2.0     134.0   -37.8093    144.9944\n",
            "3      3       2.0      94.0   -37.7969    144.9969\n",
            "4      4       1.0     120.0   -37.8072    144.9941\n",
            "The predictions are\n",
            "[1480000. 1035000. 1465000.  850000. 1600000.]\n"
          ]
        }
      ]
    },
    {
      "cell_type": "markdown",
      "source": [
        "# Tu primer modelo"
      ],
      "metadata": {
        "id": "Subr7P5JRd0X"
      }
    },
    {
      "cell_type": "code",
      "source": [
        "import pandas as pd\n",
        "\n",
        "iowa_file_path = '/content/train.csv'\n",
        "\n",
        "home_data = pd.read_csv(iowa_file_path)"
      ],
      "metadata": {
        "id": "JQtV9Cz2RtRG"
      },
      "execution_count": null,
      "outputs": []
    },
    {
      "cell_type": "markdown",
      "source": [
        "## Especificar objetivo de predicción\n",
        "Seleccione la variable objetivo, que corresponde al precio de venta. Guárdela en una nueva variable llamada y. Tendrá que imprimir una lista de las columnas para encontrar el nombre de la columna que necesita."
      ],
      "metadata": {
        "id": "9lWtz3zyR1Yk"
      }
    },
    {
      "cell_type": "code",
      "source": [
        "# imprimir la lista de columnas del conjunto de datos para encontrar el nombre del objetivo de predicción\n",
        "print(home_data.columns)"
      ],
      "metadata": {
        "id": "9MOukRfuR6jk",
        "outputId": "1118ebed-746f-4e28-e82c-8fb2b4987d43",
        "colab": {
          "base_uri": "https://localhost:8080/"
        }
      },
      "execution_count": null,
      "outputs": [
        {
          "output_type": "stream",
          "name": "stdout",
          "text": [
            "Index(['Id', 'MSSubClass', 'MSZoning', 'LotFrontage', 'LotArea', 'Street',\n",
            "       'Alley', 'LotShape', 'LandContour', 'Utilities', 'LotConfig',\n",
            "       'LandSlope', 'Neighborhood', 'Condition1', 'Condition2', 'BldgType',\n",
            "       'HouseStyle', 'OverallQual', 'OverallCond', 'YearBuilt', 'YearRemodAdd',\n",
            "       'RoofStyle', 'RoofMatl', 'Exterior1st', 'Exterior2nd', 'MasVnrType',\n",
            "       'MasVnrArea', 'ExterQual', 'ExterCond', 'Foundation', 'BsmtQual',\n",
            "       'BsmtCond', 'BsmtExposure', 'BsmtFinType1', 'BsmtFinSF1',\n",
            "       'BsmtFinType2', 'BsmtFinSF2', 'BsmtUnfSF', 'TotalBsmtSF', 'Heating',\n",
            "       'HeatingQC', 'CentralAir', 'Electrical', '1stFlrSF', '2ndFlrSF',\n",
            "       'LowQualFinSF', 'GrLivArea', 'BsmtFullBath', 'BsmtHalfBath', 'FullBath',\n",
            "       'HalfBath', 'BedroomAbvGr', 'KitchenAbvGr', 'KitchenQual',\n",
            "       'TotRmsAbvGrd', 'Functional', 'Fireplaces', 'FireplaceQu', 'GarageType',\n",
            "       'GarageYrBlt', 'GarageFinish', 'GarageCars', 'GarageArea', 'GarageQual',\n",
            "       'GarageCond', 'PavedDrive', 'WoodDeckSF', 'OpenPorchSF',\n",
            "       'EnclosedPorch', '3SsnPorch', 'ScreenPorch', 'PoolArea', 'PoolQC',\n",
            "       'Fence', 'MiscFeature', 'MiscVal', 'MoSold', 'YrSold', 'SaleType',\n",
            "       'SaleCondition', 'SalePrice'],\n",
            "      dtype='object')\n"
          ]
        }
      ]
    },
    {
      "cell_type": "code",
      "source": [
        "y = home_data.SalePrice\n",
        "print(y)"
      ],
      "metadata": {
        "id": "FqpK5Lo9R8sO",
        "outputId": "108dd662-f4e3-41d2-cf24-9dde76c88dc9",
        "colab": {
          "base_uri": "https://localhost:8080/"
        }
      },
      "execution_count": null,
      "outputs": [
        {
          "output_type": "stream",
          "name": "stdout",
          "text": [
            "0       208500\n",
            "1       181500\n",
            "2       223500\n",
            "3       140000\n",
            "4       250000\n",
            "         ...  \n",
            "1455    175000\n",
            "1456    210000\n",
            "1457    266500\n",
            "1458    142125\n",
            "1459    147500\n",
            "Name: SalePrice, Length: 1460, dtype: int64\n"
          ]
        }
      ]
    },
    {
      "cell_type": "markdown",
      "source": [
        "## Crear X"
      ],
      "metadata": {
        "id": "XT1XVrNZSB9z"
      }
    },
    {
      "cell_type": "markdown",
      "source": [
        "Ahora creará un DataFrame llamado X que contendrá las características predictivas.\n",
        "\n",
        "Como sólo quiere algunas columnas de los datos originales, primero creará una lista con los nombres de las columnas que quiere en X.\n",
        "\n",
        "Utilizará sólo las siguientes columnas en la lista (puede copiar y pegar toda la lista para ahorrar algo de escritura, aunque todavía tendrá que añadir comillas):\n",
        "\n",
        "- LotArea\n",
        "- YearBuilt\n",
        "- 1stFlrSF\n",
        "- 2ndFlrSF\n",
        "- FullBath\n",
        "- BedroomAbvGr\n",
        "- TotRmsAbvGrd\n",
        "\n",
        "Después de crear esa lista de características, utilízala para crear el DataFrame que utilizarás para ajustar el modelo."
      ],
      "metadata": {
        "id": "rNrZwgYKSNkm"
      }
    },
    {
      "cell_type": "code",
      "source": [
        "# Crear la lista de características\n",
        "feature_names =['LotArea','YearBuilt','1stFlrSF','2ndFlrSF','FullBath','BedroomAbvGr','TotRmsAbvGrd']\n",
        "\n",
        "# Seleccionar los datos correspondientes a las características en feature_names\n",
        "X = home_data[feature_names]"
      ],
      "metadata": {
        "id": "nFkOufhESi0q"
      },
      "execution_count": null,
      "outputs": []
    },
    {
      "cell_type": "markdown",
      "source": [
        "# Revisar datos\n",
        "Antes de construir un modelo, echa un vistazo rápido a X para verificar que parece sensato"
      ],
      "metadata": {
        "id": "Z1VTJVBaSsb4"
      }
    },
    {
      "cell_type": "code",
      "source": [
        "# Revisar datos\n",
        "# imprimir descripción o estadísticas de X\n",
        "X.describe()\n",
        "# imprimir las primeras lineas\n",
        "X.head()"
      ],
      "metadata": {
        "id": "z3VUIccGSwza",
        "outputId": "de8e517e-a76c-42ed-89a5-1b6fdda2a2b2",
        "colab": {
          "base_uri": "https://localhost:8080/",
          "height": 206
        }
      },
      "execution_count": null,
      "outputs": [
        {
          "output_type": "execute_result",
          "data": {
            "text/plain": [
              "   LotArea  YearBuilt  1stFlrSF  2ndFlrSF  FullBath  BedroomAbvGr  \\\n",
              "0     8450       2003       856       854         2             3   \n",
              "1     9600       1976      1262         0         2             3   \n",
              "2    11250       2001       920       866         2             3   \n",
              "3     9550       1915       961       756         1             3   \n",
              "4    14260       2000      1145      1053         2             4   \n",
              "\n",
              "   TotRmsAbvGrd  \n",
              "0             8  \n",
              "1             6  \n",
              "2             6  \n",
              "3             7  \n",
              "4             9  "
            ],
            "text/html": [
              "\n",
              "  <div id=\"df-437b54ea-3737-4334-8be1-e91565625e86\">\n",
              "    <div class=\"colab-df-container\">\n",
              "      <div>\n",
              "<style scoped>\n",
              "    .dataframe tbody tr th:only-of-type {\n",
              "        vertical-align: middle;\n",
              "    }\n",
              "\n",
              "    .dataframe tbody tr th {\n",
              "        vertical-align: top;\n",
              "    }\n",
              "\n",
              "    .dataframe thead th {\n",
              "        text-align: right;\n",
              "    }\n",
              "</style>\n",
              "<table border=\"1\" class=\"dataframe\">\n",
              "  <thead>\n",
              "    <tr style=\"text-align: right;\">\n",
              "      <th></th>\n",
              "      <th>LotArea</th>\n",
              "      <th>YearBuilt</th>\n",
              "      <th>1stFlrSF</th>\n",
              "      <th>2ndFlrSF</th>\n",
              "      <th>FullBath</th>\n",
              "      <th>BedroomAbvGr</th>\n",
              "      <th>TotRmsAbvGrd</th>\n",
              "    </tr>\n",
              "  </thead>\n",
              "  <tbody>\n",
              "    <tr>\n",
              "      <th>0</th>\n",
              "      <td>8450</td>\n",
              "      <td>2003</td>\n",
              "      <td>856</td>\n",
              "      <td>854</td>\n",
              "      <td>2</td>\n",
              "      <td>3</td>\n",
              "      <td>8</td>\n",
              "    </tr>\n",
              "    <tr>\n",
              "      <th>1</th>\n",
              "      <td>9600</td>\n",
              "      <td>1976</td>\n",
              "      <td>1262</td>\n",
              "      <td>0</td>\n",
              "      <td>2</td>\n",
              "      <td>3</td>\n",
              "      <td>6</td>\n",
              "    </tr>\n",
              "    <tr>\n",
              "      <th>2</th>\n",
              "      <td>11250</td>\n",
              "      <td>2001</td>\n",
              "      <td>920</td>\n",
              "      <td>866</td>\n",
              "      <td>2</td>\n",
              "      <td>3</td>\n",
              "      <td>6</td>\n",
              "    </tr>\n",
              "    <tr>\n",
              "      <th>3</th>\n",
              "      <td>9550</td>\n",
              "      <td>1915</td>\n",
              "      <td>961</td>\n",
              "      <td>756</td>\n",
              "      <td>1</td>\n",
              "      <td>3</td>\n",
              "      <td>7</td>\n",
              "    </tr>\n",
              "    <tr>\n",
              "      <th>4</th>\n",
              "      <td>14260</td>\n",
              "      <td>2000</td>\n",
              "      <td>1145</td>\n",
              "      <td>1053</td>\n",
              "      <td>2</td>\n",
              "      <td>4</td>\n",
              "      <td>9</td>\n",
              "    </tr>\n",
              "  </tbody>\n",
              "</table>\n",
              "</div>\n",
              "      <button class=\"colab-df-convert\" onclick=\"convertToInteractive('df-437b54ea-3737-4334-8be1-e91565625e86')\"\n",
              "              title=\"Convert this dataframe to an interactive table.\"\n",
              "              style=\"display:none;\">\n",
              "        \n",
              "  <svg xmlns=\"http://www.w3.org/2000/svg\" height=\"24px\"viewBox=\"0 0 24 24\"\n",
              "       width=\"24px\">\n",
              "    <path d=\"M0 0h24v24H0V0z\" fill=\"none\"/>\n",
              "    <path d=\"M18.56 5.44l.94 2.06.94-2.06 2.06-.94-2.06-.94-.94-2.06-.94 2.06-2.06.94zm-11 1L8.5 8.5l.94-2.06 2.06-.94-2.06-.94L8.5 2.5l-.94 2.06-2.06.94zm10 10l.94 2.06.94-2.06 2.06-.94-2.06-.94-.94-2.06-.94 2.06-2.06.94z\"/><path d=\"M17.41 7.96l-1.37-1.37c-.4-.4-.92-.59-1.43-.59-.52 0-1.04.2-1.43.59L10.3 9.45l-7.72 7.72c-.78.78-.78 2.05 0 2.83L4 21.41c.39.39.9.59 1.41.59.51 0 1.02-.2 1.41-.59l7.78-7.78 2.81-2.81c.8-.78.8-2.07 0-2.86zM5.41 20L4 18.59l7.72-7.72 1.47 1.35L5.41 20z\"/>\n",
              "  </svg>\n",
              "      </button>\n",
              "      \n",
              "  <style>\n",
              "    .colab-df-container {\n",
              "      display:flex;\n",
              "      flex-wrap:wrap;\n",
              "      gap: 12px;\n",
              "    }\n",
              "\n",
              "    .colab-df-convert {\n",
              "      background-color: #E8F0FE;\n",
              "      border: none;\n",
              "      border-radius: 50%;\n",
              "      cursor: pointer;\n",
              "      display: none;\n",
              "      fill: #1967D2;\n",
              "      height: 32px;\n",
              "      padding: 0 0 0 0;\n",
              "      width: 32px;\n",
              "    }\n",
              "\n",
              "    .colab-df-convert:hover {\n",
              "      background-color: #E2EBFA;\n",
              "      box-shadow: 0px 1px 2px rgba(60, 64, 67, 0.3), 0px 1px 3px 1px rgba(60, 64, 67, 0.15);\n",
              "      fill: #174EA6;\n",
              "    }\n",
              "\n",
              "    [theme=dark] .colab-df-convert {\n",
              "      background-color: #3B4455;\n",
              "      fill: #D2E3FC;\n",
              "    }\n",
              "\n",
              "    [theme=dark] .colab-df-convert:hover {\n",
              "      background-color: #434B5C;\n",
              "      box-shadow: 0px 1px 3px 1px rgba(0, 0, 0, 0.15);\n",
              "      filter: drop-shadow(0px 1px 2px rgba(0, 0, 0, 0.3));\n",
              "      fill: #FFFFFF;\n",
              "    }\n",
              "  </style>\n",
              "\n",
              "      <script>\n",
              "        const buttonEl =\n",
              "          document.querySelector('#df-437b54ea-3737-4334-8be1-e91565625e86 button.colab-df-convert');\n",
              "        buttonEl.style.display =\n",
              "          google.colab.kernel.accessAllowed ? 'block' : 'none';\n",
              "\n",
              "        async function convertToInteractive(key) {\n",
              "          const element = document.querySelector('#df-437b54ea-3737-4334-8be1-e91565625e86');\n",
              "          const dataTable =\n",
              "            await google.colab.kernel.invokeFunction('convertToInteractive',\n",
              "                                                     [key], {});\n",
              "          if (!dataTable) return;\n",
              "\n",
              "          const docLinkHtml = 'Like what you see? Visit the ' +\n",
              "            '<a target=\"_blank\" href=https://colab.research.google.com/notebooks/data_table.ipynb>data table notebook</a>'\n",
              "            + ' to learn more about interactive tables.';\n",
              "          element.innerHTML = '';\n",
              "          dataTable['output_type'] = 'display_data';\n",
              "          await google.colab.output.renderOutput(dataTable, element);\n",
              "          const docLink = document.createElement('div');\n",
              "          docLink.innerHTML = docLinkHtml;\n",
              "          element.appendChild(docLink);\n",
              "        }\n",
              "      </script>\n",
              "    </div>\n",
              "  </div>\n",
              "  "
            ]
          },
          "metadata": {},
          "execution_count": 17
        }
      ]
    },
    {
      "cell_type": "markdown",
      "source": [
        "# Especificar y ajustar el modelo\n",
        "Cree un DecisionTreeRegressor y guárdelo en iowa_model. Asegúrese de que ha realizado la importación correspondiente desde sklearn para ejecutar este comando.\n",
        "\n",
        "A continuación, ajuste el modelo que acaba de crear utilizando los datos en **X** y **y** que guardó anteriormente."
      ],
      "metadata": {
        "id": "LKEVkhUSS8WS"
      }
    },
    {
      "cell_type": "code",
      "source": [
        "# Importar DecisionTreeRegressor\n",
        "from sklearn.tree import DecisionTreeRegressor\n",
        "# Especificar el modelo. \n",
        "# Para la reproducibilidad del modelo, establecer un valor numérico para random_state al especificar el modelo.\n",
        "iowa_model = DecisionTreeRegressor(random_state=0)\n",
        "\n",
        "# Hacer Fit al modelo\n",
        "iowa_model.fit(X, y)"
      ],
      "metadata": {
        "id": "rZSGNhZ7TTXF",
        "outputId": "de00c69a-7d73-4fa2-9922-8ffb2623a674",
        "colab": {
          "base_uri": "https://localhost:8080/"
        }
      },
      "execution_count": null,
      "outputs": [
        {
          "output_type": "execute_result",
          "data": {
            "text/plain": [
              "DecisionTreeRegressor(random_state=3)"
            ]
          },
          "metadata": {},
          "execution_count": 25
        }
      ]
    },
    {
      "cell_type": "markdown",
      "source": [
        "# Hacer predicciones\n",
        "Realiza predicciones con el comando predecir del modelo utilizando X como datos. Guarda los resultados en una variable llamada predictions."
      ],
      "metadata": {
        "id": "x7Y55Y7AT-q2"
      }
    },
    {
      "cell_type": "code",
      "source": [
        "predictions =iowa_model.predict(X.head())\n",
        "print(predictions)"
      ],
      "metadata": {
        "id": "0rRi3arnUFLP",
        "outputId": "9f0ec423-6d07-4529-fbf6-029c74e307a6",
        "colab": {
          "base_uri": "https://localhost:8080/"
        }
      },
      "execution_count": null,
      "outputs": [
        {
          "output_type": "stream",
          "name": "stdout",
          "text": [
            "[208500. 181500. 223500. 140000. 250000.]\n"
          ]
        }
      ]
    }
  ]
}